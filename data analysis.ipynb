{
 "cells": [
  {
   "cell_type": "markdown",
   "metadata": {},
   "source": [
    "## Задание 1\n",
    "\n",
    "В файле находится выборка покупок пользователей. Покупать можно либо трансляцию матча (в title указаны две команды), либо подписку на прямой эфир (все остальное)\n",
    "\n",
    "id — идентификатор пользователя\n",
    "\n",
    "created — дата покупки\n",
    "\n",
    "\n",
    "Новый сезон РПЛ считать начавшимся с 01 июля 2019. Старый сезон — до 1 июля 2019."
   ]
  },
  {
   "cell_type": "markdown",
   "metadata": {},
   "source": [
    "Ваша задача развернуть данные в pd.DataFrame"
   ]
  },
  {
   "cell_type": "code",
   "execution_count": 14,
   "metadata": {},
   "outputs": [],
   "source": [
    "import pandas as pd\n",
    "import numpy as np\n",
    "import scipy\n",
    "import re \n",
    "from datetime import datetime, timedelta\n",
    "from statsmodels.stats.weightstats import *\n",
    "from statsmodels.stats.proportion import proportion_confint"
   ]
  },
  {
   "cell_type": "code",
   "execution_count": 3,
   "metadata": {},
   "outputs": [
    {
     "data": {
      "text/html": [
       "<div>\n",
       "<style scoped>\n",
       "    .dataframe tbody tr th:only-of-type {\n",
       "        vertical-align: middle;\n",
       "    }\n",
       "\n",
       "    .dataframe tbody tr th {\n",
       "        vertical-align: top;\n",
       "    }\n",
       "\n",
       "    .dataframe thead th {\n",
       "        text-align: right;\n",
       "    }\n",
       "</style>\n",
       "<table border=\"1\" class=\"dataframe\">\n",
       "  <thead>\n",
       "    <tr style=\"text-align: right;\">\n",
       "      <th></th>\n",
       "      <th>created</th>\n",
       "      <th>title</th>\n",
       "      <th>name</th>\n",
       "      <th>id</th>\n",
       "    </tr>\n",
       "  </thead>\n",
       "  <tbody>\n",
       "    <tr>\n",
       "      <th>0</th>\n",
       "      <td>2018-09-02 19:12:22.144047</td>\n",
       "      <td>Зенит – Спартак. Российская Премьер-лига. 6 тур</td>\n",
       "      <td>Трансляция РПЛ</td>\n",
       "      <td>fa18fdf154aa0defaf386d52f770ff52</td>\n",
       "    </tr>\n",
       "    <tr>\n",
       "      <th>1</th>\n",
       "      <td>2018-08-30 13:16:12.620303</td>\n",
       "      <td>Ростов - Рубин. Российская Премьер-лига. 6 тур</td>\n",
       "      <td>Трансляция РПЛ</td>\n",
       "      <td>0ae165a76e8730674f61bb91c0aa108b</td>\n",
       "    </tr>\n",
       "    <tr>\n",
       "      <th>2</th>\n",
       "      <td>2018-09-02 19:27:45.044487</td>\n",
       "      <td>Зенит – Спартак. Российская Премьер-лига. 6 тур</td>\n",
       "      <td>Трансляция РПЛ</td>\n",
       "      <td>88b3dc521850617dc465eb7936282357</td>\n",
       "    </tr>\n",
       "    <tr>\n",
       "      <th>3</th>\n",
       "      <td>2018-09-01 14:50:46.626348</td>\n",
       "      <td>ЦСКА - Урал. Российская Премьер-лига. 6 тур</td>\n",
       "      <td>Трансляция РПЛ</td>\n",
       "      <td>88dd235c1eeb4be7b39637730e54c121</td>\n",
       "    </tr>\n",
       "    <tr>\n",
       "      <th>4</th>\n",
       "      <td>2018-09-01 18:42:08.190768</td>\n",
       "      <td>Краснодар - Локомотив. Российская Премьер-лига...</td>\n",
       "      <td>Трансляция РПЛ</td>\n",
       "      <td>1d6384cc9a6917f2dd1b7df7a9681eb2</td>\n",
       "    </tr>\n",
       "  </tbody>\n",
       "</table>\n",
       "</div>"
      ],
      "text/plain": [
       "                      created  \\\n",
       "0  2018-09-02 19:12:22.144047   \n",
       "1  2018-08-30 13:16:12.620303   \n",
       "2  2018-09-02 19:27:45.044487   \n",
       "3  2018-09-01 14:50:46.626348   \n",
       "4  2018-09-01 18:42:08.190768   \n",
       "\n",
       "                                               title            name  \\\n",
       "0    Зенит – Спартак. Российская Премьер-лига. 6 тур  Трансляция РПЛ   \n",
       "1     Ростов - Рубин. Российская Премьер-лига. 6 тур  Трансляция РПЛ   \n",
       "2    Зенит – Спартак. Российская Премьер-лига. 6 тур  Трансляция РПЛ   \n",
       "3        ЦСКА - Урал. Российская Премьер-лига. 6 тур  Трансляция РПЛ   \n",
       "4  Краснодар - Локомотив. Российская Премьер-лига...  Трансляция РПЛ   \n",
       "\n",
       "                                 id  \n",
       "0  fa18fdf154aa0defaf386d52f770ff52  \n",
       "1  0ae165a76e8730674f61bb91c0aa108b  \n",
       "2  88b3dc521850617dc465eb7936282357  \n",
       "3  88dd235c1eeb4be7b39637730e54c121  \n",
       "4  1d6384cc9a6917f2dd1b7df7a9681eb2  "
      ]
     },
     "execution_count": 3,
     "metadata": {},
     "output_type": "execute_result"
    }
   ],
   "source": [
    "# Your code should be written below:\n",
    "data = pd.read_csv('Task 1.csv')\n",
    "data.head()"
   ]
  },
  {
   "cell_type": "markdown",
   "metadata": {},
   "source": [
    "## Подсчитайте следующие статистики:\n",
    "### Q1: Количество уникальных юзеров:"
   ]
  },
  {
   "cell_type": "code",
   "execution_count": 4,
   "metadata": {},
   "outputs": [
    {
     "data": {
      "text/plain": [
       "163988"
      ]
     },
     "execution_count": 4,
     "metadata": {},
     "output_type": "execute_result"
    }
   ],
   "source": [
    "# Your code should be written below:\n",
    "data['id'].nunique()"
   ]
  },
  {
   "cell_type": "markdown",
   "metadata": {},
   "source": [
    "Альтернативные способы вывода:"
   ]
  },
  {
   "cell_type": "code",
   "execution_count": 5,
   "metadata": {},
   "outputs": [
    {
     "data": {
      "text/plain": [
       "163988"
      ]
     },
     "execution_count": 5,
     "metadata": {},
     "output_type": "execute_result"
    }
   ],
   "source": [
    "len(data['id'].value_counts())"
   ]
  },
  {
   "cell_type": "code",
   "execution_count": 6,
   "metadata": {},
   "outputs": [
    {
     "data": {
      "text/html": [
       "<div>\n",
       "<style scoped>\n",
       "    .dataframe tbody tr th:only-of-type {\n",
       "        vertical-align: middle;\n",
       "    }\n",
       "\n",
       "    .dataframe tbody tr th {\n",
       "        vertical-align: top;\n",
       "    }\n",
       "\n",
       "    .dataframe thead th {\n",
       "        text-align: right;\n",
       "    }\n",
       "</style>\n",
       "<table border=\"1\" class=\"dataframe\">\n",
       "  <thead>\n",
       "    <tr style=\"text-align: right;\">\n",
       "      <th></th>\n",
       "      <th>created</th>\n",
       "      <th>title</th>\n",
       "      <th>name</th>\n",
       "      <th>id</th>\n",
       "    </tr>\n",
       "  </thead>\n",
       "  <tbody>\n",
       "    <tr>\n",
       "      <th>count</th>\n",
       "      <td>410302</td>\n",
       "      <td>410302</td>\n",
       "      <td>410302</td>\n",
       "      <td>410301</td>\n",
       "    </tr>\n",
       "    <tr>\n",
       "      <th>unique</th>\n",
       "      <td>410300</td>\n",
       "      <td>281</td>\n",
       "      <td>29</td>\n",
       "      <td>163988</td>\n",
       "    </tr>\n",
       "    <tr>\n",
       "      <th>top</th>\n",
       "      <td>2019-07-27 16:44:41.248637</td>\n",
       "      <td>Прямой эфир канала МАТЧ ПРЕМЬЕР</td>\n",
       "      <td>Трансляция РПЛ</td>\n",
       "      <td>c9252f5f7a89c1ed2a2638faf3a943c4</td>\n",
       "    </tr>\n",
       "    <tr>\n",
       "      <th>freq</th>\n",
       "      <td>2</td>\n",
       "      <td>73161</td>\n",
       "      <td>317726</td>\n",
       "      <td>70</td>\n",
       "    </tr>\n",
       "  </tbody>\n",
       "</table>\n",
       "</div>"
      ],
      "text/plain": [
       "                           created                            title  \\\n",
       "count                       410302                           410302   \n",
       "unique                      410300                              281   \n",
       "top     2019-07-27 16:44:41.248637  Прямой эфир канала МАТЧ ПРЕМЬЕР   \n",
       "freq                             2                            73161   \n",
       "\n",
       "                  name                                id  \n",
       "count           410302                            410301  \n",
       "unique              29                            163988  \n",
       "top     Трансляция РПЛ  c9252f5f7a89c1ed2a2638faf3a943c4  \n",
       "freq            317726                                70  "
      ]
     },
     "execution_count": 6,
     "metadata": {},
     "output_type": "execute_result"
    }
   ],
   "source": [
    "data.describe()"
   ]
  },
  {
   "cell_type": "markdown",
   "metadata": {},
   "source": [
    "#### Количество уникальных пользователей указано во второй строке в последнем столбце: 163 988 шт."
   ]
  },
  {
   "cell_type": "markdown",
   "metadata": {},
   "source": [
    "### Q2: Количество уникального контента:"
   ]
  },
  {
   "cell_type": "code",
   "execution_count": 7,
   "metadata": {},
   "outputs": [
    {
     "data": {
      "text/plain": [
       "281"
      ]
     },
     "execution_count": 7,
     "metadata": {},
     "output_type": "execute_result"
    }
   ],
   "source": [
    "# Your code should be written below\n",
    "data['title'].nunique()"
   ]
  },
  {
   "cell_type": "code",
   "execution_count": 8,
   "metadata": {},
   "outputs": [
    {
     "data": {
      "text/plain": [
       "281"
      ]
     },
     "execution_count": 8,
     "metadata": {},
     "output_type": "execute_result"
    }
   ],
   "source": [
    "len(data['title'].value_counts())"
   ]
  },
  {
   "cell_type": "markdown",
   "metadata": {},
   "source": [
    "#### Количество уникального контента: 281 шт."
   ]
  },
  {
   "cell_type": "markdown",
   "metadata": {},
   "source": [
    "### Q3: Кто наши покупатели:\n",
    "Кто покупает подписки в новом сезоне — новые пользователи, или у них были и раньше подписки/трансляции? "
   ]
  },
  {
   "cell_type": "code",
   "execution_count": 9,
   "metadata": {},
   "outputs": [
    {
     "name": "stdout",
     "output_type": "stream",
     "text": [
      "<class 'pandas.core.frame.DataFrame'>\n",
      "RangeIndex: 410302 entries, 0 to 410301\n",
      "Data columns (total 4 columns):\n",
      " #   Column   Non-Null Count   Dtype \n",
      "---  ------   --------------   ----- \n",
      " 0   created  410302 non-null  object\n",
      " 1   title    410302 non-null  object\n",
      " 2   name     410302 non-null  object\n",
      " 3   id       410301 non-null  object\n",
      "dtypes: object(4)\n",
      "memory usage: 12.5+ MB\n"
     ]
    }
   ],
   "source": [
    "# Your code should be written below\n",
    "# Проверим наличие пропущенных значений и тип данных в столбце created\n",
    "\n",
    "data.info()"
   ]
  },
  {
   "cell_type": "markdown",
   "metadata": {},
   "source": [
    "Видим, что одно из значений id пропущено. Так как у нас нет информации о данном пользователе, будем считать его уникальным, заполним его id строкой 'Null'. (Как вариант, можно удалить данную запись, так как она всего одна, то потеря информации будет минимальной)."
   ]
  },
  {
   "cell_type": "code",
   "execution_count": 10,
   "metadata": {},
   "outputs": [
    {
     "name": "stdout",
     "output_type": "stream",
     "text": [
      "created         2018-08-04 19:50:42.747908\n",
      "title      Прямой эфир канала МАТЧ ПРЕМЬЕР\n",
      "name                          МАТЧ ПРЕМЬЕР\n",
      "id                                     NaN\n",
      "Name: 390212, dtype: object\n"
     ]
    }
   ],
   "source": [
    "# Вычислим строку с пропущенным значением\n",
    "for i in range(data.shape[0]):\n",
    "    if pd.isnull(data['id'][i])==True:\n",
    "        print (data.iloc[i])"
   ]
  },
  {
   "cell_type": "code",
   "execution_count": 11,
   "metadata": {},
   "outputs": [],
   "source": [
    "# Заменим пропущенное значение на 'Null'\n",
    "data.id[390212] = 'Null'"
   ]
  },
  {
   "cell_type": "markdown",
   "metadata": {},
   "source": [
    "#### Для дальнейшей работы преобразуем столбец created к формату даты."
   ]
  },
  {
   "cell_type": "code",
   "execution_count": 12,
   "metadata": {},
   "outputs": [],
   "source": [
    "# Вспомогательная функция для перевода столбца created из строкового типа в формат даты\n",
    "def convert_to_datetime(row):\n",
    "    return datetime.strptime(row, '%Y-%m-%d %H:%M:%S.%f')"
   ]
  },
  {
   "cell_type": "code",
   "execution_count": 13,
   "metadata": {},
   "outputs": [
    {
     "data": {
      "text/html": [
       "<div>\n",
       "<style scoped>\n",
       "    .dataframe tbody tr th:only-of-type {\n",
       "        vertical-align: middle;\n",
       "    }\n",
       "\n",
       "    .dataframe tbody tr th {\n",
       "        vertical-align: top;\n",
       "    }\n",
       "\n",
       "    .dataframe thead th {\n",
       "        text-align: right;\n",
       "    }\n",
       "</style>\n",
       "<table border=\"1\" class=\"dataframe\">\n",
       "  <thead>\n",
       "    <tr style=\"text-align: right;\">\n",
       "      <th></th>\n",
       "      <th>created</th>\n",
       "      <th>title</th>\n",
       "      <th>name</th>\n",
       "      <th>id</th>\n",
       "    </tr>\n",
       "  </thead>\n",
       "  <tbody>\n",
       "    <tr>\n",
       "      <th>0</th>\n",
       "      <td>2018-09-02 19:12:22.144047</td>\n",
       "      <td>Зенит – Спартак. Российская Премьер-лига. 6 тур</td>\n",
       "      <td>Трансляция РПЛ</td>\n",
       "      <td>fa18fdf154aa0defaf386d52f770ff52</td>\n",
       "    </tr>\n",
       "    <tr>\n",
       "      <th>1</th>\n",
       "      <td>2018-08-30 13:16:12.620303</td>\n",
       "      <td>Ростов - Рубин. Российская Премьер-лига. 6 тур</td>\n",
       "      <td>Трансляция РПЛ</td>\n",
       "      <td>0ae165a76e8730674f61bb91c0aa108b</td>\n",
       "    </tr>\n",
       "    <tr>\n",
       "      <th>2</th>\n",
       "      <td>2018-09-02 19:27:45.044487</td>\n",
       "      <td>Зенит – Спартак. Российская Премьер-лига. 6 тур</td>\n",
       "      <td>Трансляция РПЛ</td>\n",
       "      <td>88b3dc521850617dc465eb7936282357</td>\n",
       "    </tr>\n",
       "    <tr>\n",
       "      <th>3</th>\n",
       "      <td>2018-09-01 14:50:46.626348</td>\n",
       "      <td>ЦСКА - Урал. Российская Премьер-лига. 6 тур</td>\n",
       "      <td>Трансляция РПЛ</td>\n",
       "      <td>88dd235c1eeb4be7b39637730e54c121</td>\n",
       "    </tr>\n",
       "    <tr>\n",
       "      <th>4</th>\n",
       "      <td>2018-09-01 18:42:08.190768</td>\n",
       "      <td>Краснодар - Локомотив. Российская Премьер-лига...</td>\n",
       "      <td>Трансляция РПЛ</td>\n",
       "      <td>1d6384cc9a6917f2dd1b7df7a9681eb2</td>\n",
       "    </tr>\n",
       "  </tbody>\n",
       "</table>\n",
       "</div>"
      ],
      "text/plain": [
       "                     created  \\\n",
       "0 2018-09-02 19:12:22.144047   \n",
       "1 2018-08-30 13:16:12.620303   \n",
       "2 2018-09-02 19:27:45.044487   \n",
       "3 2018-09-01 14:50:46.626348   \n",
       "4 2018-09-01 18:42:08.190768   \n",
       "\n",
       "                                               title            name  \\\n",
       "0    Зенит – Спартак. Российская Премьер-лига. 6 тур  Трансляция РПЛ   \n",
       "1     Ростов - Рубин. Российская Премьер-лига. 6 тур  Трансляция РПЛ   \n",
       "2    Зенит – Спартак. Российская Премьер-лига. 6 тур  Трансляция РПЛ   \n",
       "3        ЦСКА - Урал. Российская Премьер-лига. 6 тур  Трансляция РПЛ   \n",
       "4  Краснодар - Локомотив. Российская Премьер-лига...  Трансляция РПЛ   \n",
       "\n",
       "                                 id  \n",
       "0  fa18fdf154aa0defaf386d52f770ff52  \n",
       "1  0ae165a76e8730674f61bb91c0aa108b  \n",
       "2  88b3dc521850617dc465eb7936282357  \n",
       "3  88dd235c1eeb4be7b39637730e54c121  \n",
       "4  1d6384cc9a6917f2dd1b7df7a9681eb2  "
      ]
     },
     "execution_count": 13,
     "metadata": {},
     "output_type": "execute_result"
    }
   ],
   "source": [
    "# Сохраним дату в новый столбец datetime\n",
    "data['created'] = data['created'].apply(convert_to_datetime)\n",
    "data.head()"
   ]
  },
  {
   "cell_type": "code",
   "execution_count": 36,
   "metadata": {},
   "outputs": [],
   "source": [
    "# Зададим дату начала нового сезона\n",
    "start_date = '2019-07-01 00:00:00.000000'\n",
    "start_datetime = datetime.strptime(start_date, '%Y-%m-%d %H:%M:%S.%f')"
   ]
  },
  {
   "cell_type": "code",
   "execution_count": 44,
   "metadata": {},
   "outputs": [
    {
     "name": "stdout",
     "output_type": "stream",
     "text": [
      "Кол-во старых пользователей в новом сезоне: 21070\n"
     ]
    }
   ],
   "source": [
    "# Посмотрим, есть ли пересечения по пользователям в старом и новом сезонах\n",
    "old_users = len(set(data[data.created<start_datetime].id) & set(data[data.created>=start_datetime].id))\n",
    "print (\"Кол-во старых пользователей в новом сезоне: {0}\".format(old_users))"
   ]
  },
  {
   "cell_type": "code",
   "execution_count": 45,
   "metadata": {},
   "outputs": [
    {
     "name": "stdout",
     "output_type": "stream",
     "text": [
      "Кол-во новых пользователей в новом сезоне: 13535\n"
     ]
    }
   ],
   "source": [
    "print (\"Кол-во новых пользователей в новом сезоне: {0}\".format(data[data.created>=start_datetime].id.nunique()-old_users))"
   ]
  },
  {
   "cell_type": "markdown",
   "metadata": {},
   "source": [
    "Проверим себя:"
   ]
  },
  {
   "cell_type": "code",
   "execution_count": 46,
   "metadata": {},
   "outputs": [
    {
     "data": {
      "text/plain": [
       "34605"
      ]
     },
     "execution_count": 46,
     "metadata": {},
     "output_type": "execute_result"
    }
   ],
   "source": [
    "# Общее кол-во уникальных пользователей в новом сезоне\n",
    "data[data.created>=start_datetime].id.nunique()"
   ]
  },
  {
   "cell_type": "code",
   "execution_count": 47,
   "metadata": {},
   "outputs": [
    {
     "data": {
      "text/plain": [
       "34605"
      ]
     },
     "execution_count": 47,
     "metadata": {},
     "output_type": "execute_result"
    }
   ],
   "source": [
    "13535+21070"
   ]
  },
  {
   "cell_type": "markdown",
   "metadata": {},
   "source": [
    "#### Видим, что 21 070 пользователей имели в старом сезоне подписку на каналы/трансляции. Соответственно 13 535 пользователей являются новыми."
   ]
  },
  {
   "cell_type": "markdown",
   "metadata": {},
   "source": [
    "### Q5: Отдельно рассмотрим тех, у кого в прошлом сезоне было куплено более одной подписки. Хочу прокоммуницировать с этими ребятами.\n",
    "Что с ними в этом сезоне? Они подписались? Стали покупать разовые? Ничего не купили ещё?"
   ]
  },
  {
   "cell_type": "code",
   "execution_count": 48,
   "metadata": {},
   "outputs": [
    {
     "data": {
      "text/plain": [
       "Прямой эфир канала МАТЧ ПРЕМЬЕР                                              73161\n",
       "Спартак - ЦСКА. Российская Премьер-лига. 22 тур                              29305\n",
       "Спартак - Зенит. Российская Премьер-лига. 20 тур                             11809\n",
       "ЦСКА - Зенит. Российская Премьер-лига. 14 тур                                10211\n",
       "Ростов - Спартак. Российская Премьер-лига. 23 тур                             9977\n",
       "                                                                             ...  \n",
       "Уфа - Анжи. Российская Премьер-Лига. 2 тур                                       2\n",
       "Урал - Ростов. Российская Премьер-лига. 4 тур                                    2\n",
       "ИНТЕРШУМ Динамо - Урал. Российская Премьер-лига. 3 тур (Без комментатора)        2\n",
       "Урал - Динамо Москва. Российская Премьер-Лига. 3 тур                             1\n",
       "Динамо - Арсенал. 30 тур. МАТЧ ПРЕМЬЕР                                           1\n",
       "Name: title, Length: 281, dtype: int64"
      ]
     },
     "execution_count": 48,
     "metadata": {},
     "output_type": "execute_result"
    }
   ],
   "source": [
    "# Your code should be written below\n",
    "# Проанализируем содержание столбца title\n",
    "data.title.value_counts()"
   ]
  },
  {
   "cell_type": "code",
   "execution_count": 49,
   "metadata": {},
   "outputs": [],
   "source": [
    "# Создадим список названий всех трансляций матчей\n",
    "title_broadcast = []\n",
    "for i in range(data.shape[0]):\n",
    "    if len(re.findall(r'[а-яА-Я]+\\s[-–]\\s[а-яА-Я]+', data.title[i]))!=0:\n",
    "        title_broadcast.append(data.title[i])"
   ]
  },
  {
   "cell_type": "code",
   "execution_count": 50,
   "metadata": {},
   "outputs": [
    {
     "data": {
      "text/plain": [
       "337059"
      ]
     },
     "execution_count": 50,
     "metadata": {},
     "output_type": "execute_result"
    }
   ],
   "source": [
    "# Кол-во купленных трансляций\n",
    "len(title_broadcast)"
   ]
  },
  {
   "cell_type": "code",
   "execution_count": 51,
   "metadata": {},
   "outputs": [
    {
     "data": {
      "text/plain": [
       "82"
      ]
     },
     "execution_count": 51,
     "metadata": {},
     "output_type": "execute_result"
    }
   ],
   "source": [
    "data.shape[0]-len(title_broadcast)-73161"
   ]
  },
  {
   "cell_type": "markdown",
   "metadata": {},
   "source": [
    "Видим, что число купленных трансляций равно 337 059 шт. Из таблицы выше видим, что подписок на прямой эфир с названием \"Прямой эфир канала МАТЧ ПРЕМЬЕР\" было куплено 73 161, остается еще 82 подписки на прямой эфир (82 = 410 302 - 337 059 - 73 161). Заметим, что название данных подписок - 'Российская Премьер-лига. 30 тур. Лучшие моменты всех матчей в прямом эфире':"
   ]
  },
  {
   "cell_type": "code",
   "execution_count": 52,
   "metadata": {},
   "outputs": [
    {
     "data": {
      "text/plain": [
       "82"
      ]
     },
     "execution_count": 52,
     "metadata": {},
     "output_type": "execute_result"
    }
   ],
   "source": [
    "len(data[data.title=='Российская Премьер-лига. 30 тур. Лучшие моменты всех матчей в прямом эфире'])"
   ]
  },
  {
   "cell_type": "code",
   "execution_count": 53,
   "metadata": {},
   "outputs": [],
   "source": [
    "# Название подписок в столбце title\n",
    "title_live = ['Прямой эфир канала МАТЧ ПРЕМЬЕР', 'Российская Премьер-лига. 30 тур. Лучшие моменты всех матчей в прямом эфире']"
   ]
  },
  {
   "cell_type": "code",
   "execution_count": 54,
   "metadata": {},
   "outputs": [],
   "source": [
    "grouped_df = data[(data.created<start_date)&(data.title.isin(title_live))].groupby(['id'])['id'].count()"
   ]
  },
  {
   "cell_type": "code",
   "execution_count": 55,
   "metadata": {},
   "outputs": [
    {
     "name": "stdout",
     "output_type": "stream",
     "text": [
      "Список id-шников клиентов, которые в старом сезоне купили более одной подписки на прямой эфир\n"
     ]
    },
    {
     "data": {
      "text/plain": [
       "Index(['0001da523657aa3186db77e58211c3b1', '000ac2749869663c1060afd11ccf3f55',\n",
       "       '000cdec294abfc99725c6ac9e4053105', '000cf7e0539886d75f54906d9eaaf3a2',\n",
       "       '001441a0aa5edade48b624445e73cc84', '0014663637a5fffb696e643afe4cb44a',\n",
       "       '0018a2370c0cbc338a0c3237b28d2623', '002789d4bdfae818b3c0e237ce884ec5',\n",
       "       '0027ed35a53a2d60a8bc0eb142f64105', '002b04c10f033cfb603e1696dbaf38b0',\n",
       "       ...\n",
       "       'ffd4d0d9430deeb78ea4c4c6c7958d8f', 'ffd7791118a99de30e5ed93b3f1c97a3',\n",
       "       'ffddfe5c1d1e948f1a48c0ac19ed2b15', 'ffe69139cd15fd9061336944604088d1',\n",
       "       'ffe7bee35a566669631cd5ee2943d15c', 'ffe8fc02ef0fb1110e9994792eb0a402',\n",
       "       'ffedef422633aba9901aaa2c0fdfdbbf', 'fff35aa8b259d2224c43d053f0ea9e9a',\n",
       "       'fffa80e9ae24faf37eca082f28417c52', 'ffffb3ff5862a220b133d089fd1527e9'],\n",
       "      dtype='object', name='id', length=12276)"
      ]
     },
     "execution_count": 55,
     "metadata": {},
     "output_type": "execute_result"
    }
   ],
   "source": [
    "print('Список id-шников клиентов, которые в старом сезоне купили более одной подписки на прямой эфир')\n",
    "grouped_df = grouped_df[grouped_df[:]>1].index\n",
    "grouped_df"
   ]
  },
  {
   "cell_type": "code",
   "execution_count": 57,
   "metadata": {},
   "outputs": [
    {
     "name": "stdout",
     "output_type": "stream",
     "text": [
      "Общее кол-во уник.кл-в, к-ые в старом сезоне купили >1 подписки и остались в новом сезоне: 4748\n"
     ]
    }
   ],
   "source": [
    "old_clients = set(data[data.created>=start_date].id) & set(grouped_df)\n",
    "print('Общее кол-во уник.кл-в, к-ые в старом сезоне купили >1 подписки и остались в новом сезоне: {0}'.format(len(old_clients)))"
   ]
  },
  {
   "cell_type": "code",
   "execution_count": 59,
   "metadata": {},
   "outputs": [
    {
     "name": "stdout",
     "output_type": "stream",
     "text": [
      "Список id-шников клиентов, к-е в старом сезоне купили более одной подписки и в новом сезоне приобрели подписку:\n"
     ]
    },
    {
     "data": {
      "text/plain": [
       "['910adb761c1304f66df8afb4e239d83d',\n",
       " '392bacadb8aae0a96e2eaa425c5c0c72',\n",
       " 'ce62371b2ccd9e0e4201e259b2a3f169',\n",
       " 'a9cfc7ee5cea0cbdd628063500ab92ca',\n",
       " '37d80d9ab22514eca04f7ef27e802400']"
      ]
     },
     "execution_count": 59,
     "metadata": {},
     "output_type": "execute_result"
    }
   ],
   "source": [
    "print('Список id-шников клиентов, к-е в старом сезоне купили более одной подписки и в новом сезоне приобрели подписку:') \n",
    "list1 = list(set(data[(data.created>=start_date) & (data.title.isin(title_live))].id) & set(grouped_df))\n",
    "list1[:5]"
   ]
  },
  {
   "cell_type": "code",
   "execution_count": 60,
   "metadata": {},
   "outputs": [
    {
     "name": "stdout",
     "output_type": "stream",
     "text": [
      "Кол-во клиентов, к-е в старом сезоне купили более одной подписки и в новом сезоне приобрели подписку: 4026\n"
     ]
    }
   ],
   "source": [
    "d1 = len(set(data[(data.created>=start_date) & (data.title.isin(title_live))].id) & set(grouped_df))\n",
    "print(\"Кол-во клиентов, к-е в старом сезоне купили более одной подписки и в новом сезоне приобрели подписку: {0}\".format(d1))"
   ]
  },
  {
   "cell_type": "code",
   "execution_count": 61,
   "metadata": {},
   "outputs": [
    {
     "name": "stdout",
     "output_type": "stream",
     "text": [
      "Список id-шников клиентов, к-е в старом сезоне купили более одной подписки, а в новом приобрели разовые трансляции\n"
     ]
    },
    {
     "data": {
      "text/plain": [
       "['07584bd5664af72c6e0cbf0a08994205',\n",
       " '33a948f6a1314eb5c8a79ee21a3873d1',\n",
       " '0c20c60ae0f05923e51a3292ef86f224',\n",
       " 'ffedef422633aba9901aaa2c0fdfdbbf',\n",
       " 'd86e66b8e96f7518082df69c32406b5c']"
      ]
     },
     "execution_count": 61,
     "metadata": {},
     "output_type": "execute_result"
    }
   ],
   "source": [
    "print('Список id-шников клиентов, к-е в старом сезоне купили более одной подписки, а в новом приобрели разовые трансляции')\n",
    "list2 = list(set(data[(data.created>=start_date) & (data.title.isin(title_broadcast))].id) & set(grouped_df))\n",
    "list2[:5]"
   ]
  },
  {
   "cell_type": "code",
   "execution_count": 63,
   "metadata": {},
   "outputs": [
    {
     "name": "stdout",
     "output_type": "stream",
     "text": [
      "Кол-во клиентов, к-е в старом сезоне купили более одной подписки,а в новом приобрели разовые трансляции: 869\n"
     ]
    }
   ],
   "source": [
    "d2 = len(set(data[(data.created>=start_date) & (data.title.isin(title_broadcast))].id) & set(grouped_df))\n",
    "print(\"Кол-во клиентов, к-е в старом сезоне купили более одной подписки,а в новом приобрели разовые трансляции: {0}\".format(d2))"
   ]
  },
  {
   "cell_type": "code",
   "execution_count": 64,
   "metadata": {},
   "outputs": [
    {
     "data": {
      "text/plain": [
       "4895"
      ]
     },
     "execution_count": 64,
     "metadata": {},
     "output_type": "execute_result"
    }
   ],
   "source": [
    "d1+d2"
   ]
  },
  {
   "cell_type": "markdown",
   "metadata": {},
   "source": [
    "**Пояснение:** сумма кол-ва клиентов, оформивших и не оформивших подписку в новом сезоне, не совпадает с общим кол-вом уникальных клиентов, оставшихся в новом сезоне, так как среди клиентов, оставшихся в новом сезоне, есть одни и те же клиенты, которые и оформили подписку и купили разовую трансляцию. "
   ]
  },
  {
   "cell_type": "code",
   "execution_count": 65,
   "metadata": {},
   "outputs": [
    {
     "name": "stdout",
     "output_type": "stream",
     "text": [
      "Список id-шников клиентов, к-е в старом сезоне купили более одной подписки, а в новом еще ничего не купили\n"
     ]
    },
    {
     "data": {
      "text/plain": [
       "['e69458e51e4c9eaef6d06616365dcd62',\n",
       " '6a73784c9a4618873f7f0ab4d9db9e25',\n",
       " 'b7dd1503f70c82c7cae49bff08a77a57',\n",
       " 'f97d83c571f42c3244dd58da08ff7dec',\n",
       " 'd25c7f30daef1b74fcf1f4c220f830dd']"
      ]
     },
     "execution_count": 65,
     "metadata": {},
     "output_type": "execute_result"
    }
   ],
   "source": [
    "print('Список id-шников клиентов, к-е в старом сезоне купили более одной подписки, а в новом еще ничего не купили')\n",
    "list3 = list(set(grouped_df) - set(data[data.created>=start_date].id))\n",
    "list3[:5]"
   ]
  },
  {
   "cell_type": "code",
   "execution_count": 66,
   "metadata": {},
   "outputs": [
    {
     "name": "stdout",
     "output_type": "stream",
     "text": [
      "Кол-во клиентов, к-е в старом сезоне купили более одной подписки,а в новом еще ничего не купили: 7528\n"
     ]
    }
   ],
   "source": [
    "print(\"Кол-во клиентов, к-е в старом сезоне купили более одной подписки,а в новом еще ничего не купили: {0}\".format(len(list3)))"
   ]
  },
  {
   "cell_type": "code",
   "execution_count": 67,
   "metadata": {},
   "outputs": [
    {
     "data": {
      "text/plain": [
       "12276"
      ]
     },
     "execution_count": 67,
     "metadata": {},
     "output_type": "execute_result"
    }
   ],
   "source": [
    "# Проверим себя\n",
    "7528 + 4748"
   ]
  },
  {
   "cell_type": "markdown",
   "metadata": {},
   "source": [
    "### Q6: Может, уже есть те, кто покупал трансляции 2 и более раз? Им выгоднее подписка. Думаем сделать под них специальный оффер и прокоммуницировать. Сколько таких?"
   ]
  },
  {
   "cell_type": "code",
   "execution_count": 68,
   "metadata": {},
   "outputs": [],
   "source": [
    "# Your code should be written below\n",
    "grouped_df_2 = data[(data.created>=start_date)&(data.title.isin(title_broadcast))].groupby(['id'])['id'].count()"
   ]
  },
  {
   "cell_type": "code",
   "execution_count": 69,
   "metadata": {},
   "outputs": [
    {
     "name": "stdout",
     "output_type": "stream",
     "text": [
      "Список id-ков клиентов, к-ые в новом сезоне купили более 2-х трансляций\n"
     ]
    },
    {
     "data": {
      "text/plain": [
       "Index(['000ac53f8ce5bc67c054c1d064a1a5c3', '000b7c45e21bb416ea8cf32ede7fe6dc',\n",
       "       '0014665298d1b60835c86bddad531fa5', '0016541260a279a7bc31f370eb0d12f0',\n",
       "       '0016f197b6f32134929b6f5685dcdaf7', '002a4880a2e553198e7349e806ea6705',\n",
       "       '00365ecbea3950b9165fc7c7e2e26790', '003b3e2141fee09099b037b8b2a2f940',\n",
       "       '004a5f85ffa77001431eaf65f8c6d1c7', '00694bdab709e1762f541b24a15ac1a7',\n",
       "       ...\n",
       "       'ff9a89199bb72315de868f2eb48d3619', 'ffae4f7be8243eaeedce2214527cb9c3',\n",
       "       'ffb3f5e34319fdbfb542416a1fae36f3', 'ffc0acbf62efa0ccdc9a45fe157c1788',\n",
       "       'ffc48600bc6e1927e99228b10e1b4ef3', 'ffca8aba18e1ac5f5e4fa66a966b8235',\n",
       "       'ffdbe3ffd2d87749fd572dbee5594263', 'ffede257249f916e508f39e774d780fd',\n",
       "       'ffedef422633aba9901aaa2c0fdfdbbf', 'fff85e2e621f578705cd5469e3985a8a'],\n",
       "      dtype='object', name='id', length=4919)"
      ]
     },
     "execution_count": 69,
     "metadata": {},
     "output_type": "execute_result"
    }
   ],
   "source": [
    "print('Список id-ков клиентов, к-ые в новом сезоне купили более 2-х трансляций')\n",
    "grouped_df_2 = grouped_df_2[grouped_df_2[:]>=2].index\n",
    "grouped_df_2"
   ]
  },
  {
   "cell_type": "code",
   "execution_count": 70,
   "metadata": {},
   "outputs": [
    {
     "name": "stdout",
     "output_type": "stream",
     "text": [
      "Кол-во клиентов, к-ые в новом сезоне уже купили более двух трансляций: 4919\n"
     ]
    }
   ],
   "source": [
    "print('Кол-во клиентов, к-ые в новом сезоне уже купили более двух трансляций: {0}'.format(len(grouped_df_2)))"
   ]
  },
  {
   "cell_type": "markdown",
   "metadata": {},
   "source": [
    "#### Особый фокус можно сделать на клиентах, которые и в прошлом сезоне купили более одной подписки и в новом уже купили более двух трансляций. Посмотрим, сколько таких клиентов."
   ]
  },
  {
   "cell_type": "code",
   "execution_count": 71,
   "metadata": {},
   "outputs": [
    {
     "name": "stdout",
     "output_type": "stream",
     "text": [
      "Кол-во клиентов, к-ые в старом сезоне купили более одной подписки и в новом сезоне уже купили более двух трансляций: 227\n"
     ]
    }
   ],
   "source": [
    "print('Кол-во клиентов, к-ые в старом сезоне купили более одной подписки и в новом сезоне уже купили более двух трансляций: {0}'\n",
    "      .format(len(set(grouped_df) & set(grouped_df_2))))"
   ]
  },
  {
   "cell_type": "markdown",
   "metadata": {},
   "source": [
    "### Q7: А матчи с какими командами покупали больше всего в старом и новом сезоне? Какая команда лидирует по покупкам?"
   ]
  },
  {
   "cell_type": "code",
   "execution_count": 75,
   "metadata": {},
   "outputs": [],
   "source": [
    "# Your code should be written below\n",
    "\n",
    "# Создадим список всех матчей в разрезе по сезонам\n",
    "matchs_old = []\n",
    "matchs_new = [] \n",
    "for i in range(data.shape[0]):\n",
    "    if data.created[i]<start_datetime:   \n",
    "        if len(re.findall(r'[а-яА-Я]+\\s[-–]\\s[а-яА-Я]+', data.title[i]))!=0:\n",
    "            matchs_old.append(re.findall(r'[а-яА-Я]+\\s[-–]\\s[а-яА-Я]+', data.title[i]))\n",
    "    else: \n",
    "        if len(re.findall(r'[а-яА-Я]+\\s[-–]\\s[а-яА-Я]+', data.title[i]))!=0:\n",
    "            matchs_new.append(re.findall(r'[а-яА-Я]+\\s[-–]\\s[а-яА-Я]+', data.title[i]))"
   ]
  },
  {
   "cell_type": "code",
   "execution_count": 76,
   "metadata": {},
   "outputs": [
    {
     "data": {
      "text/plain": [
       "Спартак - ЦСКА     29305\n",
       "Спартак - Зенит    11809\n",
       "ЦСКА - Зенит       10211\n",
       "Name: matchs, dtype: int64"
      ]
     },
     "execution_count": 76,
     "metadata": {},
     "output_type": "execute_result"
    }
   ],
   "source": [
    "df_old = pd.DataFrame(matchs_old, columns=['matchs'])\n",
    "df_old.matchs.value_counts()[:3]"
   ]
  },
  {
   "cell_type": "markdown",
   "metadata": {},
   "source": [
    "#### В старом сезоне чаще всего покупали матчи между Спартак - ЦСКА"
   ]
  },
  {
   "cell_type": "code",
   "execution_count": 77,
   "metadata": {},
   "outputs": [
    {
     "data": {
      "text/plain": [
       "Ростов - Спартак    6914\n",
       "Тамбов - Спартак    3626\n",
       "Сочи - Зенит        3042\n",
       "Name: matchs, dtype: int64"
      ]
     },
     "execution_count": 77,
     "metadata": {},
     "output_type": "execute_result"
    }
   ],
   "source": [
    "df_new = pd.DataFrame(matchs_new, columns=['matchs'])\n",
    "df_new.matchs.value_counts()[:3]"
   ]
  },
  {
   "cell_type": "markdown",
   "metadata": {},
   "source": [
    "#### В новом сезоне чаще всего покупали матчи между Ростов - Спартак"
   ]
  },
  {
   "cell_type": "code",
   "execution_count": 78,
   "metadata": {},
   "outputs": [],
   "source": [
    "# Создадим список всех матчей без разбиения на сезоны\n",
    "matchs = []\n",
    "for i in range(data.shape[0]):   \n",
    "    if len(re.findall(r'[а-яА-Я]+\\s[-–]\\s[а-яА-Я]+', data.title[i]))!=0:\n",
    "            matchs.append(re.findall(r'[а-яА-Я]+\\s[-–]\\s[а-яА-Я]+', data.title[i]))"
   ]
  },
  {
   "cell_type": "code",
   "execution_count": 79,
   "metadata": {},
   "outputs": [
    {
     "data": {
      "text/plain": [
       "Спартак - ЦСКА      29305\n",
       "Ростов - Спартак    16863\n",
       "Спартак - Зенит     11809\n",
       "Name: matchs, dtype: int64"
      ]
     },
     "execution_count": 79,
     "metadata": {},
     "output_type": "execute_result"
    }
   ],
   "source": [
    "df = pd.DataFrame(matchs, columns=['matchs'])\n",
    "df.matchs.value_counts()[:3]"
   ]
  },
  {
   "cell_type": "markdown",
   "metadata": {},
   "source": [
    "#### Без разбиения на сезоны по количеству покупок лидирует Спартак - ЦСКА"
   ]
  },
  {
   "cell_type": "markdown",
   "metadata": {},
   "source": [
    "Выше мы посмотрели какие **матчи** лидируют по продажам. Теперь посмотрим, какие **команды** в лидерах:"
   ]
  },
  {
   "cell_type": "code",
   "execution_count": 118,
   "metadata": {},
   "outputs": [],
   "source": [
    "# Создадим список всех команд в старом сезоне:\n",
    "commands_old = []\n",
    "for i in range(df_old.shape[0]):\n",
    "    coms = re.split(r'\\s[-–]\\s', df_old.matchs[i])\n",
    "    commands_old.append(coms[0])\n",
    "    commands_old.append(coms[1])"
   ]
  },
  {
   "cell_type": "code",
   "execution_count": 119,
   "metadata": {},
   "outputs": [
    {
     "data": {
      "text/plain": [
       "[('Спартак', 145063), ('Зенит', 88364), ('ЦСКА', 82853)]"
      ]
     },
     "execution_count": 119,
     "metadata": {},
     "output_type": "execute_result"
    }
   ],
   "source": [
    "from collections import Counter\n",
    "Counter(commands_old).most_common()[:3]"
   ]
  },
  {
   "cell_type": "markdown",
   "metadata": {},
   "source": [
    "#### В старом сезоне лидиром продаж среди команд является Спартак"
   ]
  },
  {
   "cell_type": "code",
   "execution_count": 120,
   "metadata": {},
   "outputs": [],
   "source": [
    "# Создадим список всех команд в новом сезоне:\n",
    "commands_new = []\n",
    "for i in range(df_new.shape[0]):\n",
    "    coms = re.split(r'\\s[-–]\\s', df_new.matchs[i])\n",
    "    commands_new.append(coms[0])\n",
    "    commands_new.append(coms[1])"
   ]
  },
  {
   "cell_type": "code",
   "execution_count": 121,
   "metadata": {},
   "outputs": [
    {
     "data": {
      "text/plain": [
       "[('Спартак', 10969), ('Ростов', 7783), ('Зенит', 7640)]"
      ]
     },
     "execution_count": 121,
     "metadata": {},
     "output_type": "execute_result"
    }
   ],
   "source": [
    "Counter(commands_new).most_common()[:3]"
   ]
  },
  {
   "cell_type": "markdown",
   "metadata": {},
   "source": [
    "#### В новом сезоне лидиром продаж среди команд также является Спартак"
   ]
  },
  {
   "cell_type": "markdown",
   "metadata": {},
   "source": [
    "## Задание 2"
   ]
  },
  {
   "cell_type": "markdown",
   "metadata": {},
   "source": [
    "Вы провели А/Б-тест двух посадочных страниц. На вариант А зашли 6 352 человека, 462 из них сконвертировались. На вариант Б зашли 7 123 человека, это дало 556 конверсий. Можно ли по результатам теста определить, какой вариант лучше?"
   ]
  },
  {
   "cell_type": "markdown",
   "metadata": {},
   "source": [
    "### Для оценки будем использовать Z-критерий для двух долей"
   ]
  },
  {
   "cell_type": "code",
   "execution_count": 1081,
   "metadata": {},
   "outputs": [],
   "source": [
    "group1=[1 for i in range(462)]+[0 for i in range(5890)]\n",
    "group2=[1 for i in range(556)]+[0 for i in range(6567)]"
   ]
  },
  {
   "cell_type": "markdown",
   "metadata": {},
   "source": [
    "#### Для начала построим доверительные интервалы для доли конверсий в А и В вариантах:"
   ]
  },
  {
   "cell_type": "markdown",
   "metadata": {},
   "source": [
    "### Интервальные оценки долей"
   ]
  },
  {
   "cell_type": "markdown",
   "metadata": {},
   "source": [
    "$$\\frac1{ 1 + \\frac{z^2}{n} } \\left( \\hat{p} + \\frac{z^2}{2n} \\pm z \\sqrt{ \\frac{ \\hat{p}\\left(1-\\hat{p}\\right)}{n} + \\frac{z^2}{4n^2} } \\right), \\;\\; z \\equiv z_{1-\\frac{\\alpha}{2}}$$ "
   ]
  },
  {
   "cell_type": "code",
   "execution_count": 1082,
   "metadata": {},
   "outputs": [],
   "source": [
    "conf_interval_group1 = proportion_confint(sum(group1), len(group1), method = 'wilson')\n",
    "conf_interval_group2 = proportion_confint(sum(group2), len(group2), method = 'wilson')"
   ]
  },
  {
   "cell_type": "code",
   "execution_count": 1083,
   "metadata": {},
   "outputs": [
    {
     "name": "stdout",
     "output_type": "stream",
     "text": [
      "95% доверительный интервал для доли конверсии, вариант А: [0.066601, 0.079381]\n",
      "95% доверительный интервал для доли конверсии, вариант В: [0.072052, 0.084517]\n"
     ]
    }
   ],
   "source": [
    "print('95%% доверительный интервал для доли конверсии, вариант А: [%f, %f]' % conf_interval_group1)\n",
    "print('95%% доверительный интервал для доли конверсии, вариант В: [%f, %f]' % conf_interval_group2)"
   ]
  },
  {
   "cell_type": "markdown",
   "metadata": {},
   "source": [
    "#### Видим, что интервалы пересекаются, соответственно на основе 95% доверительных интервалов нельзя сделать однозначный вывод о том, какой вариант лучше."
   ]
  },
  {
   "cell_type": "markdown",
   "metadata": {},
   "source": [
    "### Z-критерий для разности долей (независимые выборки)"
   ]
  },
  {
   "cell_type": "markdown",
   "metadata": {},
   "source": [
    "   | $X_1$ | $X_2$  \n",
    "  ------------- | -------------|\n",
    "  1  | a | b \n",
    "  0  | c | d \n",
    "  $\\sum$ | $n_1$| $n_2$\n",
    "  \n",
    "$$ \\hat{p}_1 = \\frac{a}{n_1}$$\n",
    "\n",
    "$$ \\hat{p}_2 = \\frac{b}{n_2}$$\n",
    "\n",
    "\n",
    "$$\\text{Доверительный интервал для }p_1 - p_2\\colon \\;\\; \\hat{p}_1 - \\hat{p}_2 \\pm z_{1-\\frac{\\alpha}{2}}\\sqrt{\\frac{\\hat{p}_1(1 - \\hat{p}_1)}{n_1} + \\frac{\\hat{p}_2(1 - \\hat{p}_2)}{n_2}}$$\n",
    "\n",
    "$$Z-статистика: Z({X_1, X_2}) =  \\frac{\\hat{p}_1 - \\hat{p}_2}{\\sqrt{P(1 - P)(\\frac{1}{n_1} + \\frac{1}{n_2})}}$$\n",
    "$$P = \\frac{\\hat{p}_1{n_1} + \\hat{p}_2{n_2}}{{n_1} + {n_2}} $$"
   ]
  },
  {
   "cell_type": "code",
   "execution_count": 1,
   "metadata": {},
   "outputs": [],
   "source": [
    "# Функция для построения доверительного интервала для разности двух долей\n",
    "def proportions_diff_confint_ind(sample1, sample2, alpha = 0.05):    \n",
    "    z = scipy.stats.norm.ppf(1 - alpha / 2.)\n",
    "    \n",
    "    p1 = float(sum(sample1)) / len(sample1)\n",
    "    p2 = float(sum(sample2)) / len(sample2)\n",
    "    \n",
    "    left_boundary = (p1 - p2) - z * np.sqrt(p1 * (1 - p1)/ len(sample1) + p2 * (1 - p2)/ len(sample2))\n",
    "    right_boundary = (p1 - p2) + z * np.sqrt(p1 * (1 - p1)/ len(sample1) + p2 * (1 - p2)/ len(sample2))\n",
    "    \n",
    "    return (left_boundary, right_boundary)"
   ]
  },
  {
   "cell_type": "code",
   "execution_count": 1085,
   "metadata": {},
   "outputs": [],
   "source": [
    "# Функция для расчета z-статистики\n",
    "def proportions_diff_z_stat_ind(sample1, sample2):\n",
    "    n1 = len(sample1)\n",
    "    n2 = len(sample2)\n",
    "    \n",
    "    p1 = float(sum(sample1)) / n1\n",
    "    p2 = float(sum(sample2)) / n2 \n",
    "    P = float(p1*n1 + p2*n2) / (n1 + n2)\n",
    "    \n",
    "    return (p1 - p2) / np.sqrt(P * (1 - P) * (1. / n1 + 1. / n2))"
   ]
  },
  {
   "cell_type": "code",
   "execution_count": 1086,
   "metadata": {},
   "outputs": [],
   "source": [
    "# Функция для расчета p-value\n",
    "def proportions_diff_z_test(z_stat, alternative = 'two-sided'):\n",
    "    if alternative not in ('two-sided', 'less', 'greater'):\n",
    "        raise ValueError(\"alternative not recognized\\n\"\n",
    "                         \"should be 'two-sided', 'less' or 'greater'\")\n",
    "    \n",
    "    if alternative == 'two-sided':\n",
    "        return 2 * (1 - scipy.stats.norm.cdf(np.abs(z_stat)))\n",
    "    \n",
    "    if alternative == 'less':\n",
    "        return scipy.stats.norm.cdf(z_stat)\n",
    "\n",
    "    if alternative == 'greater':\n",
    "        return 1 - scipy.stats.norm.cdf(z_stat)"
   ]
  },
  {
   "cell_type": "code",
   "execution_count": 1087,
   "metadata": {},
   "outputs": [
    {
     "name": "stdout",
     "output_type": "stream",
     "text": [
      "95% доверительный интервал для разности двух долей: [-0.014246, 0.003598]\n"
     ]
    }
   ],
   "source": [
    "print(\"95%% доверительный интервал для разности двух долей: [%f, %f]\" %\\\n",
    "      proportions_diff_confint_ind(group1, group2))"
   ]
  },
  {
   "cell_type": "markdown",
   "metadata": {},
   "source": [
    "Доверительный интервал содержит 0, соответсвенно опять не можем сделать вывод о том, какой вариант лучше."
   ]
  },
  {
   "cell_type": "code",
   "execution_count": 1088,
   "metadata": {},
   "outputs": [
    {
     "name": "stdout",
     "output_type": "stream",
     "text": [
      "p-value: 0.243061\n"
     ]
    }
   ],
   "source": [
    "print(\"p-value: %f\" % proportions_diff_z_test(proportions_diff_z_stat_ind(group1, group2), 'two-sided'))"
   ]
  },
  {
   "cell_type": "markdown",
   "metadata": {},
   "source": [
    "#### На уровни значимости 0.05 мы не можем отвергнуть гипотезу о том, что доли конверсий в обоих вариантах одинаковы."
   ]
  },
  {
   "cell_type": "markdown",
   "metadata": {},
   "source": [
    "## Задание 3\n",
    "Если вам надо быстро сравнить много продуктов из схожей категории и вы можете выбрать только две метрики для сравнения, какие вы возьмете?"
   ]
  },
  {
   "cell_type": "markdown",
   "metadata": {},
   "source": [
    "### Две основные продуктовые метрики - это Retention и LTV.\n",
    "\n",
    "**Retention** – ключевая метрика, характеризующая то, насколько полезным находят продукт пользователи. Если часть новых пользователей начинает пользоваться продуктом регулярно (кривая Retention выходит на плато), значит, для определенной части рынка продукт приносит пользу, то есть достигнут product/market fit.\n",
    "\n",
    "**Lifetime value** – метрика, которая показывает, сколько денег средний новый пользователь принесет за все время использования продукта. Эта метрика сочетает в себе все другие метрики монетизации продукта. \n",
    "\n",
    "LTV = (Доля платящих от новых) * (Прибыль с платящего пользователя за все время)\n",
    "\n",
    "Также дополнительно можно отметить такую метрику как **Конверсия во вторую покупку**: нам критически важно понимать, как складывается жизнь клиентов после того, как они начинают пользоваться нашим продуктом. Для этого хорошо подходят конверсионные метрики. Под **Конверсией во вторую покупку**, как правило, понимают долю тех покупателей, которые, сделав первую покупку в течение периода N, сделали вторую в течение либо периода \"N\", либо периода \"N+1\". Периоды можно гибко выбирать под конкретную задачу. Конверсия во вторую покупку в разрезе по продуктам говорит нам о том, насколько ценным оказался данный продукт для пользователя и насколько качественно мы работаем с клиентами после продажи. "
   ]
  }
 ],
 "metadata": {
  "kernelspec": {
   "display_name": "Python 3",
   "language": "python",
   "name": "python3"
  },
  "language_info": {
   "codemirror_mode": {
    "name": "ipython",
    "version": 3
   },
   "file_extension": ".py",
   "mimetype": "text/x-python",
   "name": "python",
   "nbconvert_exporter": "python",
   "pygments_lexer": "ipython3",
   "version": "3.7.0"
  }
 },
 "nbformat": 4,
 "nbformat_minor": 2
}
